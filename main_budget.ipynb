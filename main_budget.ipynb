{
 "cells": [
  {
   "cell_type": "code",
   "execution_count": null,
   "id": "deaf1415",
   "metadata": {},
   "outputs": [],
   "source": [
    "# !pip install pandas numpy matplotlib seaborn openpyxl"
   ]
  },
  {
   "cell_type": "markdown",
   "id": "0dccfa4c",
   "metadata": {},
   "source": [
    "# Import"
   ]
  },
  {
   "cell_type": "code",
   "execution_count": 2,
   "id": "80f1c358",
   "metadata": {},
   "outputs": [],
   "source": [
    "import pandas as pd\n",
    "import numpy as np\n",
    "from matplotlib import pyplot as plt\n",
    "import seaborn as sns"
   ]
  },
  {
   "cell_type": "code",
   "execution_count": 7,
   "id": "64a9b7d7",
   "metadata": {},
   "outputs": [],
   "source": [
    "import os"
   ]
  },
  {
   "cell_type": "markdown",
   "id": "c5c196a1",
   "metadata": {},
   "source": [
    "# Brainstorming"
   ]
  },
  {
   "cell_type": "markdown",
   "id": "82fadd37",
   "metadata": {},
   "source": [
    "## Expenses"
   ]
  },
  {
   "cell_type": "markdown",
   "id": "725ec3c7",
   "metadata": {},
   "source": [
    "### Savings/Investments"
   ]
  },
  {
   "cell_type": "markdown",
   "id": "3c9703c3",
   "metadata": {},
   "source": [
    "- thd stock\n",
    "    - \\$250 per paycheck, $\\sum_{i=1}^{52} K_i = \\$13000$\n",
    "- roth ira\n",
    "    - \\$500 per month, $\\sum_{i=1}^{12} K_i = \\$6000$\n",
    "- flourish account\n",
    "    - \\$ 1000 per month, $\\sum_{i=1}^{12} K_i = \\$12000$\n",
    "- rent/downpayment\n",
    "    - NaN\n",
    "\n"
   ]
  },
  {
   "cell_type": "code",
   "execution_count": 22,
   "id": "db303d4b",
   "metadata": {},
   "outputs": [],
   "source": [
    "thd_stock_pck = 250\n",
    "thd_stock_yr = thd_stock_pck * 26\n",
    "thd_stock_mon = thd_stock_yr / 12"
   ]
  },
  {
   "cell_type": "code",
   "execution_count": 23,
   "id": "a7530ad0",
   "metadata": {},
   "outputs": [],
   "source": [
    "roth_ira_mon = 500\n",
    "roth_ira_yr = roth_ira_mon * 12"
   ]
  },
  {
   "cell_type": "code",
   "execution_count": 24,
   "id": "475147ba",
   "metadata": {},
   "outputs": [],
   "source": [
    "savings_mon = 1000\n",
    "savings_yr = savings_mon * 12"
   ]
  },
  {
   "cell_type": "code",
   "execution_count": 25,
   "id": "95d33f54",
   "metadata": {},
   "outputs": [],
   "source": [
    "investment_mon = sum([thd_stock_mon, roth_ira_mon, savings_mon])"
   ]
  },
  {
   "cell_type": "markdown",
   "id": "e83b90b9",
   "metadata": {},
   "source": [
    "### Living Expenses"
   ]
  },
  {
   "cell_type": "markdown",
   "id": "23eef2e4",
   "metadata": {},
   "source": [
    "- net payment to family\n",
    "    - \\$650 per month, $\\sum_{i=1}^{12} K_i = \\$7800$\n",
    "- eating out\n",
    "    - let's figure out what it was last month\n",
    "- clothes\n",
    "    - hasn't been anything since the trip\n",
    "\n"
   ]
  },
  {
   "cell_type": "code",
   "execution_count": 28,
   "id": "5d881a7d",
   "metadata": {},
   "outputs": [],
   "source": [
    "fam_exp_mon = 650\n",
    "fam_exp_yr = fam_exp_mon * 12"
   ]
  },
  {
   "cell_type": "markdown",
   "id": "5b0ae546",
   "metadata": {},
   "source": [
    "### Medical"
   ]
  },
  {
   "cell_type": "markdown",
   "id": "1a1e0d36",
   "metadata": {},
   "source": [
    "- dental\n",
    "- ASC\n",
    "    - $K_{\\text{session}} \\approx \\$220$\n",
    "- Chiropractic\n",
    "- Massage\n",
    "    - $K_{\\text{session}} \\approx \\$200$\n",
    "\n"
   ]
  },
  {
   "cell_type": "markdown",
   "id": "98d3a2a8",
   "metadata": {},
   "source": [
    "### Debt"
   ]
  },
  {
   "cell_type": "markdown",
   "id": "c4d0f737",
   "metadata": {},
   "source": [
    "- Former Credit Cards from BofA\n",
    "    - roughly \\$350 total\n",
    "- To parents\n",
    "    - \\$500 per month over 8 months (may consider \\$400 over 10 months)\n",
    "    - $K_{\\text{month}} = \\$500 \\quad \\quad \\sum_{i}^{M} K_i = \\$4000$\n",
    "\n",
    "\n",
    "\n"
   ]
  },
  {
   "cell_type": "code",
   "execution_count": 29,
   "id": "e4588dec",
   "metadata": {},
   "outputs": [],
   "source": [
    "debt_mon = 500\n",
    "debt_tot = debt_mon * 8"
   ]
  },
  {
   "cell_type": "markdown",
   "id": "31c41380",
   "metadata": {},
   "source": [
    "### Subscriptions"
   ]
  },
  {
   "cell_type": "markdown",
   "id": "de5dd4a3",
   "metadata": {},
   "source": [
    "- OpenAI\n",
    "    - \\$20 per month, $\\sum_{i=1}^{12} K_i = \\$240$\n",
    "- Apple Storage\n",
    "- Google Storage\n",
    "- Splice\n",
    "    - \\$12-15 per month, $\\sum_{i=1}^{12} K_i \\approx \\$150$\n",
    "\n",
    "\n"
   ]
  },
  {
   "cell_type": "markdown",
   "id": "a15ef531",
   "metadata": {},
   "source": [
    "### Musical Instruments"
   ]
  },
  {
   "cell_type": "markdown",
   "id": "027b4978",
   "metadata": {},
   "source": [
    "- Sire Bass\n",
    "- Tele\n",
    "- VSX headphones\n",
    "- $\\sum_{\\text{Inst}} = \\$114.33/ \\text{month}$\n",
    " \n"
   ]
  },
  {
   "cell_type": "markdown",
   "id": "23b36a62",
   "metadata": {},
   "source": [
    "### Analysis"
   ]
  },
  {
   "cell_type": "code",
   "execution_count": 31,
   "id": "2ff7ddc7",
   "metadata": {},
   "outputs": [],
   "source": [
    "# Paycheck level\n",
    "paycheck = 2845.46\n",
    "yearly_pay = paycheck * 26\n",
    "monthly_pay = yearly_pay/12"
   ]
  },
  {
   "cell_type": "code",
   "execution_count": 21,
   "id": "b111b688",
   "metadata": {},
   "outputs": [
    {
     "name": "stdout",
     "output_type": "stream",
     "text": [
      "monthly pay is roughly $6,165.00\n"
     ]
    }
   ],
   "source": [
    "print(f\"monthly pay is roughly ${round(monthly_pay):,.2f}\")"
   ]
  },
  {
   "cell_type": "code",
   "execution_count": 30,
   "id": "f71ab566",
   "metadata": {},
   "outputs": [
    {
     "data": {
      "text/plain": [
       "2973.496666666668"
      ]
     },
     "execution_count": 30,
     "metadata": {},
     "output_type": "execute_result"
    }
   ],
   "source": [
    "monthly_pay - investment_mon - fam_exp_mon - debt_mon"
   ]
  },
  {
   "cell_type": "code",
   "execution_count": 32,
   "id": "3ff4a919",
   "metadata": {},
   "outputs": [],
   "source": [
    "a, inst = 1, 0.04"
   ]
  },
  {
   "cell_type": "code",
   "execution_count": 33,
   "id": "816d381d",
   "metadata": {},
   "outputs": [],
   "source": [
    "inst += a"
   ]
  },
  {
   "cell_type": "markdown",
   "id": "0f339a65",
   "metadata": {},
   "source": [
    "Reminder: Basic Compound Interest:\n",
    "\n",
    "$S_t = S_0 \\cdot (1 + r)^t + d \\cdot \\frac{(1+r)^t - 1}{r}$\n",
    "- $S_0 = \\text{starting balance}$\n",
    "- $d_i = \\text{deposit at month }i$\n",
    "- $S_t = S_o + d \\cdot t$\n",
    "    - if deposits are constant for each $d$ month\n",
    "\n",
    "With Variable Deposits:\n",
    "\n",
    "$S_t = S_0 \\cdot (1 + r)^t + \\sum_{i=1}^{t} d_i \\cdot (1 + r)^{t-i}$"
   ]
  },
  {
   "cell_type": "code",
   "execution_count": 46,
   "id": "7152381c",
   "metadata": {},
   "outputs": [],
   "source": [
    "# Cell: savings growth function\n",
    "def savings_growth(\n",
    "    start_balance: float,\n",
    "    monthly_deposit: float,\n",
    "    months: int,\n",
    "    annual_rate: float = 0.0,\n",
    "    variable_deposits: list = None\n",
    "):\n",
    "    \"\"\"\n",
    "    Calculate savings growth over time.\n",
    "    \n",
    "    Parameters\n",
    "    ----------\n",
    "    start_balance : float\n",
    "        Starting savings balance.\n",
    "    monthly_deposit : float\n",
    "        Fixed monthly deposit (ignored if variable_deposits provided).\n",
    "    months : int\n",
    "        Number of months to simulate.\n",
    "    annual_rate : float\n",
    "        Annual interest rate in decimal form (e.g., 0.05 for 5%).\n",
    "    variable_deposits : list, optional\n",
    "        List of deposits for each month (overrides monthly_deposit).\n",
    "        \n",
    "    Returns\n",
    "    -------\n",
    "    balances : list of float\n",
    "        Balance at the end of each month.\n",
    "    \"\"\"\n",
    "    r = annual_rate / 12  # monthly interest rate\n",
    "    balances = []\n",
    "    balance = start_balance\n",
    "    \n",
    "    for t in range(months):\n",
    "        # Deposit\n",
    "        deposit = variable_deposits[t] if variable_deposits else monthly_deposit\n",
    "        balance += deposit\n",
    "        # Apply interest\n",
    "        balance *= (1 + r)\n",
    "        balances.append(balance)\n",
    "    \n",
    "    return balances\n"
   ]
  },
  {
   "cell_type": "code",
   "execution_count": 96,
   "id": "61ae33cc",
   "metadata": {},
   "outputs": [],
   "source": [
    "years = 5"
   ]
  },
  {
   "cell_type": "code",
   "execution_count": 97,
   "id": "2486cea8",
   "metadata": {},
   "outputs": [],
   "source": [
    "months = years * 12"
   ]
  },
  {
   "cell_type": "code",
   "execution_count": 98,
   "id": "e74515c1",
   "metadata": {},
   "outputs": [],
   "source": [
    "balances = savings_growth(start_balance=0, monthly_deposit=1000, \n",
    "               months=months, annual_rate=0.04)"
   ]
  },
  {
   "cell_type": "code",
   "execution_count": null,
   "id": "2af1c33c",
   "metadata": {},
   "outputs": [],
   "source": []
  }
 ],
 "metadata": {
  "kernelspec": {
   "display_name": ".venv (3.13.1)",
   "language": "python",
   "name": "python3"
  },
  "language_info": {
   "codemirror_mode": {
    "name": "ipython",
    "version": 3
   },
   "file_extension": ".py",
   "mimetype": "text/x-python",
   "name": "python",
   "nbconvert_exporter": "python",
   "pygments_lexer": "ipython3",
   "version": "3.13.1"
  }
 },
 "nbformat": 4,
 "nbformat_minor": 5
}
