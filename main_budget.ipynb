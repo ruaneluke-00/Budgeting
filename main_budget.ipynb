{
 "cells": [
  {
   "cell_type": "code",
   "execution_count": null,
   "id": "deaf1415",
   "metadata": {},
   "outputs": [],
   "source": [
    "# !pip install pandas numpy matplotlib seaborn openpyxl"
   ]
  },
  {
   "cell_type": "markdown",
   "id": "0dccfa4c",
   "metadata": {},
   "source": [
    "# Import"
   ]
  },
  {
   "cell_type": "code",
   "execution_count": 2,
   "id": "80f1c358",
   "metadata": {},
   "outputs": [],
   "source": [
    "import pandas as pd\n",
    "import numpy as np\n",
    "from matplotlib import pyplot as plt\n",
    "import seaborn as sns"
   ]
  },
  {
   "cell_type": "code",
   "execution_count": 7,
   "id": "64a9b7d7",
   "metadata": {},
   "outputs": [],
   "source": [
    "import os"
   ]
  },
  {
   "cell_type": "markdown",
   "id": "c5c196a1",
   "metadata": {},
   "source": [
    "# Brainstorming"
   ]
  },
  {
   "cell_type": "markdown",
   "id": "82fadd37",
   "metadata": {},
   "source": [
    "## Expenses"
   ]
  },
  {
   "cell_type": "markdown",
   "id": "67f78094",
   "metadata": {},
   "source": [
    "- Savings/Investments\n",
    "    - thd stock\n",
    "        - \\$250 per paycheck, $\\sum_{i=1}^{52} K_i = \\$13000$\n",
    "    - roth ira\n",
    "        - \\$500 per month, $\\sum_{i=1}^{12} K_i = \\$6000$\n",
    "    - flourish account\n",
    "        - \\$ 1000 per month, $\\sum_{i=1}^{12} K_i = \\$12000$\n",
    "    - rent/downpayment\n",
    "        - NaN\n",
    "- Living Expenses\n",
    "    - net payment to family\n",
    "        - \\$650 per month, $\\sum_{i=1}^{12} K_i = \\$7800$\n",
    "    - eating out\n",
    "        - let's figure out what it was last month\n",
    "    - clothes\n",
    "        - hasn't been anything since the trip\n",
    "- Medical \n",
    "    - dental\n",
    "    - ASC\n",
    "        - $K_{\\text{session}} \\approx \\$220$\n",
    "    - Chiropractic\n",
    "    - Massage\n",
    "        - $K_{\\text{session}} \\approx \\$200$\n",
    "- Debt\n",
    "    - Former Credit Cards from BofA\n",
    "        - roughly \\$350 total\n",
    "    - To parents\n",
    "        - \\$500 per month over 8 months (may consider \\$400 over 10 months)\n",
    "        - $K_{\\text{month}} = \\$500 \\quad \\quad \\sum_{i}^{M} K_i = \\$4000$\n",
    "\n",
    "\n",
    "- Subscriptions\n",
    "    - OpenAI\n",
    "        - \\$20 per month, $\\sum_{i=1}^{12} K_i = \\$240$\n",
    "    - Apple Storage\n",
    "    - Google Storage\n",
    "    - Splice\n",
    "        - \\$12-15 per month, $\\sum_{i=1}^{12} K_i \\approx \\$150$\n",
    "\n",
    "- Musical Instruments\n",
    "    - Sire Bass\n",
    "    - Tele\n",
    "    - VSX headphones\n",
    "    - $\\sum_I \\approx \\$100/\\text{month}$\n",
    "        - should be around $110 per month\n",
    "\n",
    " \n"
   ]
  },
  {
   "cell_type": "code",
   "execution_count": null,
   "id": "2ff7ddc7",
   "metadata": {},
   "outputs": [],
   "source": []
  }
 ],
 "metadata": {
  "kernelspec": {
   "display_name": ".venv (3.13.1)",
   "language": "python",
   "name": "python3"
  },
  "language_info": {
   "codemirror_mode": {
    "name": "ipython",
    "version": 3
   },
   "file_extension": ".py",
   "mimetype": "text/x-python",
   "name": "python",
   "nbconvert_exporter": "python",
   "pygments_lexer": "ipython3",
   "version": "3.13.1"
  }
 },
 "nbformat": 4,
 "nbformat_minor": 5
}
